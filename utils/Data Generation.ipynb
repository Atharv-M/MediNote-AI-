{
 "cells": [
  {
   "cell_type": "code",
   "execution_count": 1,
   "id": "1db1dcc2",
   "metadata": {},
   "outputs": [],
   "source": [
    "import pandas as pd\n",
    "import random"
   ]
  },
  {
   "cell_type": "code",
   "execution_count": 3,
   "id": "043ec68e",
   "metadata": {},
   "outputs": [],
   "source": [
    "# Generating synthetic Data for traning our model\n",
    "random.seed(40)\n",
    "# list of symptoms which we will use in patients data set\n",
    "symptoms=[\"chest pain\",\"high blood pressure\",\"shortness of breath\",\"dizziness\",\"fatigue\",\"persistent cough\",\n",
    "          \"fever\",\"weight loss\",\"irregular heartbeat\",\"headache\",\"nausea\", \"back pain\",\"swelling in legs\",\n",
    "          \"loss of appetite \",\"night sweats\",\"blurred vision\",\"cold hands and feet\",\"abdominal pain\",\"vomitting\",\"joint pain\",\n",
    "          \"skin rash\",\"sleep disturbance\",\"anxiety\",\"depression\",\"confusion\",\"low oxygen levels\",\n",
    "          ]\n",
    "# risk factors for patients\n",
    "risk_factors= [\n",
    "    \"smoker\", \"diabetic\", \"family history of heart disease\",\n",
    "    \"obese\", \"alcohol use\", \"high cholesterol\", \"sedentary lifestyle\",\n",
    "    \"chronic kidney disease\", \"asthma\", \"previous stroke\",\n",
    "    \"genetic predisposition\", \"chronic stress\", \"unhealthy diet\",\n",
    "    \"lack of exercise\", \"drug use\", \"autoimmune disorder\"\n",
    "]\n",
    "\n",
    "# creating a function to generate Doctor Note Synthetic dataset \n",
    "\n",
    "def generate_note():\n",
    "  age=random.randint(20,90)\n",
    "  gender=random.choice([\"Male\",\"Female\"])\n",
    "  picked_symptoms=random.sample(symptoms,random.randint(2,5))\n",
    "  picked_risk_factor=random.sample(risk_factors,random.randint(0,3))\n",
    "\n",
    "  note=f\"Patient is a {age}-year old {gender} presenting with \"\\\n",
    "       f\"{', '.join(picked_symptoms)}\"\n",
    "  if picked_risk_factor:\n",
    "    note+=f\" with {', '.join(picked_risk_factor)}.\"\n",
    "  # NOW we will assign weightage to risk_factor which will help in analyzing the risk percentage and label\n",
    "  score = 0\n",
    "  if \"chest pain\" in picked_symptoms or \"shortness of breath\" in picked_symptoms:\n",
    "      score += 40\n",
    "  score = min(score, 100)\n",
    "  if \"high blood pressure\" in picked_symptoms or \"high cholesterol\" in picked_risk_factor:\n",
    "      score += 10\n",
    "  if any(i in picked_risk_factor for i in [\"smoker\", \"diabetic\", \"family history of heart disease\",\"previous stroke\"]):\n",
    "      score += 20\n",
    "  if len(picked_risk_factor) > 3:\n",
    "      score += 20\n",
    "\n",
    "  # cap score at 100\n",
    "  score=min(score,100)\n",
    "  label = 1 if score >= 50 else 0\n",
    "\n",
    "  return note,label,score"
   ]
  },
  {
   "cell_type": "code",
   "execution_count": 4,
   "id": "93fb71b0",
   "metadata": {},
   "outputs": [
    {
     "name": "stdout",
     "output_type": "stream",
     "text": [
      "                                         doctor_note  risk_label  risk_score\n",
      "0  Patient is a 78-year old Male presenting with ...           0           0\n",
      "1  Patient is a 64-year old Female presenting wit...           1          50\n",
      "2  Patient is a 26-year old Male presenting with ...           0           0\n",
      "3  Patient is a 72-year old Male presenting with ...           0          20\n",
      "4  Patient is a 40-year old Female presenting wit...           0           0\n"
     ]
    }
   ],
   "source": [
    "# Creating a function to genrate dataset \n",
    "def generate_dataset(num_patients,filename=\"doctor_notes.csv\"):\n",
    "  data=[generate_note()for _ in range(num_patients)]\n",
    "  df=pd.DataFrame(data,columns=[\"doctor_note\",\"risk_label\",\"risk_score\"])\n",
    "  df.to_csv(filename,index=False)\n",
    "  return df\n",
    "\n",
    "if __name__==\"__main__\":\n",
    "  df=generate_dataset(5000)\n",
    "  print(df.head())\n"
   ]
  },
  {
   "cell_type": "code",
   "execution_count": 4,
   "id": "ce5091ec",
   "metadata": {},
   "outputs": [
    {
     "data": {
      "text/plain": [
       "(5000, 3)"
      ]
     },
     "execution_count": 4,
     "metadata": {},
     "output_type": "execute_result"
    }
   ],
   "source": [
    "df.head(20)\n",
    "df.shape"
   ]
  },
  {
   "cell_type": "code",
   "execution_count": null,
   "id": "c09799c7",
   "metadata": {},
   "outputs": [],
   "source": []
  }
 ],
 "metadata": {
  "kernelspec": {
   "display_name": "Python 3",
   "language": "python",
   "name": "python3"
  },
  "language_info": {
   "codemirror_mode": {
    "name": "ipython",
    "version": 3
   },
   "file_extension": ".py",
   "mimetype": "text/x-python",
   "name": "python",
   "nbconvert_exporter": "python",
   "pygments_lexer": "ipython3",
   "version": "3.12.5"
  }
 },
 "nbformat": 4,
 "nbformat_minor": 5
}
